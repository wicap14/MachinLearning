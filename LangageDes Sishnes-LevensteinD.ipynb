{
 "cells": [
  {
   "cell_type": "markdown",
   "id": "3f4f6de6",
   "metadata": {
    "papermill": {
     "duration": 0.010062,
     "end_time": "2023-05-28T10:22:27.545886",
     "exception": false,
     "start_time": "2023-05-28T10:22:27.535824",
     "status": "completed"
    },
    "tags": []
   },
   "source": [
    "<!-- Codes by HTMLcodes.ws -->\n",
    "<h1 style = \"background-color:MediumSpringGreen;font-family:newtimeroman;font-size:250%;text-align:center;border-radius:15px 50px;\">\"ASL Fingerspelling Accuracy with Levenshtein Distance\"</h1>\n"
   ]
  },
  {
   "cell_type": "markdown",
   "id": "09a127ea",
   "metadata": {
    "papermill": {
     "duration": 0.006566,
     "end_time": "2023-05-28T10:22:27.559794",
     "exception": false,
     "start_time": "2023-05-28T10:22:27.553228",
     "status": "completed"
    },
    "tags": []
   },
   "source": [
    "# Introduction\n",
    "\n",
    "Welcome to the ASL Fingerspelling Translation competition, where AI empowers the Deaf and Hard of Hearing community to enhance communication. By training a specialized model, participants have the opportunity to revolutionize sign language recognition technology.\n",
    "\n",
    "While voice-enabled assistants and AI solutions have revolutionized modern devices, they often overlook the 70+ million Deaf individuals worldwide and the 1.5+ billion people affected by hearing loss. Fingerspelling, a key aspect of ASL, uses hand shapes to represent letters and is frequently used for text input on mobile devices. Deaf smartphone users can fingerspell words faster than they can type on virtual keyboards. However, sign language recognition AI for text entry has been limited due to the lack of comprehensive datasets.\n",
    "\n",
    "This competition aligns with Google's mission of universal accessibility and AI principles by exploring scalable solutions for sign language recognition. In collaboration with the Deaf Professional Arts Network, the competition aims to address individual user needs and expand to other sign languages.\n",
    "\n",
    "Participating in this competition empowers Deaf and Hard of Hearing users to use fingerspelling instead of traditional keyboards. Beyond convenient text entry, there is potential for an app that translates fingerspelling into spoken words, facilitating smoother communication between the Deaf and non-signing individuals.\n",
    "\n",
    "Join this competition to contribute to the advancement of sign language technology, bridging the gap between sign language and mainstream AI applications. Together, we can build a more inclusive and accessible future."
   ]
  },
  {
   "cell_type": "markdown",
   "id": "443c3c24",
   "metadata": {
    "papermill": {
     "duration": 0.006691,
     "end_time": "2023-05-28T10:22:27.573684",
     "exception": false,
     "start_time": "2023-05-28T10:22:27.566993",
     "status": "completed"
    },
    "tags": []
   },
   "source": [
    "## What is ASL Fingerspelling Translation?\n",
    "\n",
    "ASL Fingerspelling Translation refers to the process of translating American Sign Language (ASL) fingerspelling into written or spoken language using artificial intelligence (AI) technology. Fingerspelling is a fundamental aspect of ASL where hand shapes are used to represent letters of the alphabet. It is commonly used for spelling out words, names, or other specific terms in sign language.\n",
    "\n",
    "The ASL Fingerspelling Translation competition harnesses the power of AI to improve the recognition and interpretation of fingerspelling gestures. Participants in the competition train AI models on specialized datasets to enhance the accuracy and efficiency of translating fingerspelling into written or spoken words. The goal is to develop scalable AI solutions that can benefit the Deaf and Hard of Hearing community by improving communication and accessibility through sign language recognition technology."
   ]
  },
  {
   "cell_type": "markdown",
   "id": "34ce3835",
   "metadata": {
    "papermill": {
     "duration": 0.006588,
     "end_time": "2023-05-28T10:22:27.587075",
     "exception": false,
     "start_time": "2023-05-28T10:22:27.580487",
     "status": "completed"
    },
    "tags": []
   },
   "source": [
    "# **Install Dependencies**"
   ]
  },
  {
   "cell_type": "code",
   "execution_count": 1,
   "id": "cdaa7187",
   "metadata": {
    "execution": {
     "iopub.execute_input": "2023-05-28T10:22:27.603002Z",
     "iopub.status.busy": "2023-05-28T10:22:27.602497Z",
     "iopub.status.idle": "2023-05-28T10:22:43.275396Z",
     "shell.execute_reply": "2023-05-28T10:22:43.273399Z"
    },
    "papermill": {
     "duration": 15.684306,
     "end_time": "2023-05-28T10:22:43.278428",
     "exception": false,
     "start_time": "2023-05-28T10:22:27.594122",
     "status": "completed"
    },
    "tags": []
   },
   "outputs": [],
   "source": [
    "%%capture\n",
    "!pip install python-Levenshtein==0.12.0"
   ]
  },
  {
   "cell_type": "markdown",
   "id": "5ebafd03",
   "metadata": {
    "papermill": {
     "duration": 0.006524,
     "end_time": "2023-05-28T10:22:43.292117",
     "exception": false,
     "start_time": "2023-05-28T10:22:43.285593",
     "status": "completed"
    },
    "tags": []
   },
   "source": [
    "Ref: [python-Levenshtein](https://pypi.org/project/python-Levenshtein/0.12.0/)"
   ]
  },
  {
   "cell_type": "markdown",
   "id": "1f1ec867",
   "metadata": {
    "papermill": {
     "duration": 0.006582,
     "end_time": "2023-05-28T10:22:43.305569",
     "exception": false,
     "start_time": "2023-05-28T10:22:43.298987",
     "status": "completed"
    },
    "tags": []
   },
   "source": [
    "# **Import Modules**"
   ]
  },
  {
   "cell_type": "code",
   "execution_count": 2,
   "id": "e6462733",
   "metadata": {
    "execution": {
     "iopub.execute_input": "2023-05-28T10:22:43.321946Z",
     "iopub.status.busy": "2023-05-28T10:22:43.320713Z",
     "iopub.status.idle": "2023-05-28T10:22:53.829143Z",
     "shell.execute_reply": "2023-05-28T10:22:53.828134Z"
    },
    "papermill": {
     "duration": 10.519167,
     "end_time": "2023-05-28T10:22:53.831667",
     "exception": false,
     "start_time": "2023-05-28T10:22:43.312500",
     "status": "completed"
    },
    "tags": []
   },
   "outputs": [
    {
     "name": "stderr",
     "output_type": "stream",
     "text": [
      "/opt/conda/lib/python3.10/site-packages/tensorflow_io/python/ops/__init__.py:98: UserWarning: unable to load libtensorflow_io_plugins.so: unable to open file: libtensorflow_io_plugins.so, from paths: ['/opt/conda/lib/python3.10/site-packages/tensorflow_io/python/ops/libtensorflow_io_plugins.so']\n",
      "caused by: ['/opt/conda/lib/python3.10/site-packages/tensorflow_io/python/ops/libtensorflow_io_plugins.so: undefined symbol: _ZN3tsl6StatusC1EN10tensorflow5error4CodeESt17basic_string_viewIcSt11char_traitsIcEENS_14SourceLocationE']\n",
      "  warnings.warn(f\"unable to load libtensorflow_io_plugins.so: {e}\")\n",
      "/opt/conda/lib/python3.10/site-packages/tensorflow_io/python/ops/__init__.py:104: UserWarning: file system plugins are not loaded: unable to open file: libtensorflow_io.so, from paths: ['/opt/conda/lib/python3.10/site-packages/tensorflow_io/python/ops/libtensorflow_io.so']\n",
      "caused by: ['/opt/conda/lib/python3.10/site-packages/tensorflow_io/python/ops/libtensorflow_io.so: undefined symbol: _ZTVN10tensorflow13GcsFileSystemE']\n",
      "  warnings.warn(f\"file system plugins are not loaded: {e}\")\n"
     ]
    }
   ],
   "source": [
    "import cv2\n",
    "import matplotlib.pyplot as plt\n",
    "import numpy as np\n",
    "import pandas as pd\n",
    "%matplotlib inline\n",
    "import json\n",
    "import tensorflow as tf\n",
    "from tensorflow.keras import layers, optimizers, constraints, regularizers\n",
    "import plotly.graph_objects as go\n",
    "import plotly.io as pio\n",
    "import os\n",
    "from Levenshtein import distance\n",
    "from datetime import datetime\n",
    "\n",
    "plt.rcParams['figure.figsize'] = (12,6)\n",
    "plt.style.use('fivethirtyeight')\n",
    "\n",
    "import warnings\n",
    "warnings.filterwarnings(\"ignore\")"
   ]
  },
  {
   "cell_type": "markdown",
   "id": "9efbca54",
   "metadata": {
    "papermill": {
     "duration": 0.00673,
     "end_time": "2023-05-28T10:22:53.845790",
     "exception": false,
     "start_time": "2023-05-28T10:22:53.839060",
     "status": "completed"
    },
    "tags": []
   },
   "source": [
    "# **Load the Dataset**"
   ]
  },
  {
   "cell_type": "code",
   "execution_count": 3,
   "id": "3eb5bddb",
   "metadata": {
    "execution": {
     "iopub.execute_input": "2023-05-28T10:22:53.862742Z",
     "iopub.status.busy": "2023-05-28T10:22:53.861631Z",
     "iopub.status.idle": "2023-05-28T10:22:54.090102Z",
     "shell.execute_reply": "2023-05-28T10:22:54.089101Z"
    },
    "papermill": {
     "duration": 0.240298,
     "end_time": "2023-05-28T10:22:54.093257",
     "exception": false,
     "start_time": "2023-05-28T10:22:53.852959",
     "status": "completed"
    },
    "tags": []
   },
   "outputs": [
    {
     "data": {
      "text/html": [
       "<style type=\"text/css\">\n",
       "#T_f4463_row0_col0, #T_f4463_row0_col1, #T_f4463_row0_col2, #T_f4463_row0_col3, #T_f4463_row0_col4, #T_f4463_row1_col0, #T_f4463_row1_col1, #T_f4463_row1_col2, #T_f4463_row1_col3, #T_f4463_row1_col4, #T_f4463_row2_col0, #T_f4463_row2_col1, #T_f4463_row2_col2, #T_f4463_row2_col3, #T_f4463_row2_col4, #T_f4463_row3_col0, #T_f4463_row3_col1, #T_f4463_row3_col2, #T_f4463_row3_col3, #T_f4463_row3_col4 {\n",
       "  background-color: royalblue;\n",
       "  color: black;\n",
       "  border-color: #8b8c8c;\n",
       "}\n",
       "</style>\n",
       "<table id=\"T_f4463\">\n",
       "  <thead>\n",
       "    <tr>\n",
       "      <th class=\"blank level0\" >&nbsp;</th>\n",
       "      <th id=\"T_f4463_level0_col0\" class=\"col_heading level0 col0\" >path</th>\n",
       "      <th id=\"T_f4463_level0_col1\" class=\"col_heading level0 col1\" >file_id</th>\n",
       "      <th id=\"T_f4463_level0_col2\" class=\"col_heading level0 col2\" >sequence_id</th>\n",
       "      <th id=\"T_f4463_level0_col3\" class=\"col_heading level0 col3\" >participant_id</th>\n",
       "      <th id=\"T_f4463_level0_col4\" class=\"col_heading level0 col4\" >phrase</th>\n",
       "    </tr>\n",
       "  </thead>\n",
       "  <tbody>\n",
       "    <tr>\n",
       "      <th id=\"T_f4463_level0_row0\" class=\"row_heading level0 row0\" >0</th>\n",
       "      <td id=\"T_f4463_row0_col0\" class=\"data row0 col0\" >train_landmarks/5414471.parquet</td>\n",
       "      <td id=\"T_f4463_row0_col1\" class=\"data row0 col1\" >5414471</td>\n",
       "      <td id=\"T_f4463_row0_col2\" class=\"data row0 col2\" >1816796431</td>\n",
       "      <td id=\"T_f4463_row0_col3\" class=\"data row0 col3\" >217</td>\n",
       "      <td id=\"T_f4463_row0_col4\" class=\"data row0 col4\" >3 creekhouse</td>\n",
       "    </tr>\n",
       "    <tr>\n",
       "      <th id=\"T_f4463_level0_row1\" class=\"row_heading level0 row1\" >1</th>\n",
       "      <td id=\"T_f4463_row1_col0\" class=\"data row1 col0\" >train_landmarks/5414471.parquet</td>\n",
       "      <td id=\"T_f4463_row1_col1\" class=\"data row1 col1\" >5414471</td>\n",
       "      <td id=\"T_f4463_row1_col2\" class=\"data row1 col2\" >1816825349</td>\n",
       "      <td id=\"T_f4463_row1_col3\" class=\"data row1 col3\" >107</td>\n",
       "      <td id=\"T_f4463_row1_col4\" class=\"data row1 col4\" >scales/kuhaylah</td>\n",
       "    </tr>\n",
       "    <tr>\n",
       "      <th id=\"T_f4463_level0_row2\" class=\"row_heading level0 row2\" >2</th>\n",
       "      <td id=\"T_f4463_row2_col0\" class=\"data row2 col0\" >train_landmarks/5414471.parquet</td>\n",
       "      <td id=\"T_f4463_row2_col1\" class=\"data row2 col1\" >5414471</td>\n",
       "      <td id=\"T_f4463_row2_col2\" class=\"data row2 col2\" >1816862427</td>\n",
       "      <td id=\"T_f4463_row2_col3\" class=\"data row2 col3\" >0</td>\n",
       "      <td id=\"T_f4463_row2_col4\" class=\"data row2 col4\" >hentaihubs.com</td>\n",
       "    </tr>\n",
       "    <tr>\n",
       "      <th id=\"T_f4463_level0_row3\" class=\"row_heading level0 row3\" >3</th>\n",
       "      <td id=\"T_f4463_row3_col0\" class=\"data row3 col0\" >train_landmarks/5414471.parquet</td>\n",
       "      <td id=\"T_f4463_row3_col1\" class=\"data row3 col1\" >5414471</td>\n",
       "      <td id=\"T_f4463_row3_col2\" class=\"data row3 col2\" >1816909464</td>\n",
       "      <td id=\"T_f4463_row3_col3\" class=\"data row3 col3\" >1</td>\n",
       "      <td id=\"T_f4463_row3_col4\" class=\"data row3 col4\" >1383 william lanier</td>\n",
       "    </tr>\n",
       "  </tbody>\n",
       "</table>\n"
      ],
      "text/plain": [
       "<pandas.io.formats.style.Styler at 0x7a001f885630>"
      ]
     },
     "execution_count": 3,
     "metadata": {},
     "output_type": "execute_result"
    }
   ],
   "source": [
    "train_df = pd.read_csv('/kaggle/input/asl-fingerspelling/train.csv')\n",
    "train_df.head(4).style.set_properties(**{'background-color':'royalblue','color':'black','border-color':'#8b8c8c'})"
   ]
  },
  {
   "cell_type": "code",
   "execution_count": 4,
   "id": "0f3eed33",
   "metadata": {
    "execution": {
     "iopub.execute_input": "2023-05-28T10:22:54.109949Z",
     "iopub.status.busy": "2023-05-28T10:22:54.109634Z",
     "iopub.status.idle": "2023-05-28T10:22:54.159214Z",
     "shell.execute_reply": "2023-05-28T10:22:54.157653Z"
    },
    "papermill": {
     "duration": 0.061017,
     "end_time": "2023-05-28T10:22:54.161803",
     "exception": false,
     "start_time": "2023-05-28T10:22:54.100786",
     "status": "completed"
    },
    "tags": []
   },
   "outputs": [
    {
     "name": "stdout",
     "output_type": "stream",
     "text": [
      "(67287, 5)\n",
      "<class 'pandas.core.frame.DataFrame'>\n",
      "RangeIndex: 67287 entries, 0 to 67286\n",
      "Data columns (total 5 columns):\n",
      " #   Column          Non-Null Count  Dtype \n",
      "---  ------          --------------  ----- \n",
      " 0   path            67287 non-null  object\n",
      " 1   file_id         67287 non-null  int64 \n",
      " 2   sequence_id     67287 non-null  int64 \n",
      " 3   participant_id  67287 non-null  int64 \n",
      " 4   phrase          67287 non-null  object\n",
      "dtypes: int64(3), object(2)\n",
      "memory usage: 2.6+ MB\n",
      "None\n"
     ]
    }
   ],
   "source": [
    "# Check the dimensions of the dataset\n",
    "print(train_df.shape)\n",
    "\n",
    "# Check the data types of columns\n",
    "print(train_df.info())"
   ]
  },
  {
   "cell_type": "code",
   "execution_count": 5,
   "id": "82409dc2",
   "metadata": {
    "execution": {
     "iopub.execute_input": "2023-05-28T10:22:54.178176Z",
     "iopub.status.busy": "2023-05-28T10:22:54.177768Z",
     "iopub.status.idle": "2023-05-28T10:22:54.271666Z",
     "shell.execute_reply": "2023-05-28T10:22:54.269730Z"
    },
    "papermill": {
     "duration": 0.1048,
     "end_time": "2023-05-28T10:22:54.274162",
     "exception": false,
     "start_time": "2023-05-28T10:22:54.169362",
     "status": "completed"
    },
    "tags": []
   },
   "outputs": [
    {
     "data": {
      "text/html": [
       "<style type=\"text/css\">\n",
       "#T_07f51_row0_col0, #T_07f51_row0_col1, #T_07f51_row1_col2, #T_07f51_row2_col2, #T_07f51_row3_col0, #T_07f51_row3_col1, #T_07f51_row3_col2, #T_07f51_row4_col2, #T_07f51_row5_col2, #T_07f51_row6_col2, #T_07f51_row7_col2 {\n",
       "  background-color: #3b4cc0;\n",
       "  color: #f1f1f1;\n",
       "  text-align: center;\n",
       "  border: 1px solid black;\n",
       "}\n",
       "#T_07f51_row0_col2, #T_07f51_row7_col0, #T_07f51_row7_col1 {\n",
       "  background-color: #b40426;\n",
       "  color: #f1f1f1;\n",
       "  text-align: center;\n",
       "  border: 1px solid black;\n",
       "}\n",
       "#T_07f51_row1_col0, #T_07f51_row5_col0 {\n",
       "  background-color: #e1dad6;\n",
       "  color: #000000;\n",
       "  text-align: center;\n",
       "  border: 1px solid black;\n",
       "}\n",
       "#T_07f51_row1_col1 {\n",
       "  background-color: #dcdddd;\n",
       "  color: #000000;\n",
       "  text-align: center;\n",
       "  border: 1px solid black;\n",
       "}\n",
       "#T_07f51_row2_col0 {\n",
       "  background-color: #9fbfff;\n",
       "  color: #000000;\n",
       "  text-align: center;\n",
       "  border: 1px solid black;\n",
       "}\n",
       "#T_07f51_row2_col1 {\n",
       "  background-color: #9abbff;\n",
       "  color: #000000;\n",
       "  text-align: center;\n",
       "  border: 1px solid black;\n",
       "}\n",
       "#T_07f51_row4_col0 {\n",
       "  background-color: #8caffe;\n",
       "  color: #000000;\n",
       "  text-align: center;\n",
       "  border: 1px solid black;\n",
       "}\n",
       "#T_07f51_row4_col1 {\n",
       "  background-color: #8db0fe;\n",
       "  color: #000000;\n",
       "  text-align: center;\n",
       "  border: 1px solid black;\n",
       "}\n",
       "#T_07f51_row5_col1 {\n",
       "  background-color: #dddcdc;\n",
       "  color: #000000;\n",
       "  text-align: center;\n",
       "  border: 1px solid black;\n",
       "}\n",
       "#T_07f51_row6_col0 {\n",
       "  background-color: #f08b6e;\n",
       "  color: #f1f1f1;\n",
       "  text-align: center;\n",
       "  border: 1px solid black;\n",
       "}\n",
       "#T_07f51_row6_col1 {\n",
       "  background-color: #f49a7b;\n",
       "  color: #000000;\n",
       "  text-align: center;\n",
       "  border: 1px solid black;\n",
       "}\n",
       "</style>\n",
       "<table id=\"T_07f51\">\n",
       "  <thead>\n",
       "    <tr>\n",
       "      <th class=\"blank level0\" >&nbsp;</th>\n",
       "      <th id=\"T_07f51_level0_col0\" class=\"col_heading level0 col0\" >file_id</th>\n",
       "      <th id=\"T_07f51_level0_col1\" class=\"col_heading level0 col1\" >sequence_id</th>\n",
       "      <th id=\"T_07f51_level0_col2\" class=\"col_heading level0 col2\" >participant_id</th>\n",
       "    </tr>\n",
       "  </thead>\n",
       "  <tbody>\n",
       "    <tr>\n",
       "      <th id=\"T_07f51_level0_row0\" class=\"row_heading level0 row0\" >count</th>\n",
       "      <td id=\"T_07f51_row0_col0\" class=\"data row0 col0\" >67287.000000</td>\n",
       "      <td id=\"T_07f51_row0_col1\" class=\"data row0 col1\" >67287.000000</td>\n",
       "      <td id=\"T_07f51_row0_col2\" class=\"data row0 col2\" >67287.000000</td>\n",
       "    </tr>\n",
       "    <tr>\n",
       "      <th id=\"T_07f51_level0_row1\" class=\"row_heading level0 row1\" >mean</th>\n",
       "      <td id=\"T_07f51_row1_col0\" class=\"data row1 col0\" >1094616847.933137</td>\n",
       "      <td id=\"T_07f51_row1_col1\" class=\"data row1 col1\" >1072691863.586815</td>\n",
       "      <td id=\"T_07f51_row1_col2\" class=\"data row1 col2\" >119.762346</td>\n",
       "    </tr>\n",
       "    <tr>\n",
       "      <th id=\"T_07f51_level0_row2\" class=\"row_heading level0 row2\" >std</th>\n",
       "      <td id=\"T_07f51_row2_col0\" class=\"data row2 col0\" >639518479.478188</td>\n",
       "      <td id=\"T_07f51_row2_col1\" class=\"data row2 col1\" >617732361.801586</td>\n",
       "      <td id=\"T_07f51_row2_col2\" class=\"data row2 col2\" >74.333078</td>\n",
       "    </tr>\n",
       "    <tr>\n",
       "      <th id=\"T_07f51_level0_row3\" class=\"row_heading level0 row3\" >min</th>\n",
       "      <td id=\"T_07f51_row3_col0\" class=\"data row3 col0\" >5414471.000000</td>\n",
       "      <td id=\"T_07f51_row3_col1\" class=\"data row3 col1\" >71095.000000</td>\n",
       "      <td id=\"T_07f51_row3_col2\" class=\"data row3 col2\" >0.000000</td>\n",
       "    </tr>\n",
       "    <tr>\n",
       "      <th id=\"T_07f51_level0_row4\" class=\"row_heading level0 row4\" >25%</th>\n",
       "      <td id=\"T_07f51_row4_col0\" class=\"data row4 col0\" >527708222.000000</td>\n",
       "      <td id=\"T_07f51_row4_col1\" class=\"data row4 col1\" >537640270.000000</td>\n",
       "      <td id=\"T_07f51_row4_col2\" class=\"data row4 col2\" >63.000000</td>\n",
       "    </tr>\n",
       "    <tr>\n",
       "      <th id=\"T_07f51_level0_row5\" class=\"row_heading level0 row5\" >50%</th>\n",
       "      <td id=\"T_07f51_row5_col0\" class=\"data row5 col0\" >1099408314.000000</td>\n",
       "      <td id=\"T_07f51_row5_col1\" class=\"data row5 col1\" >1074262620.000000</td>\n",
       "      <td id=\"T_07f51_row5_col2\" class=\"data row5 col2\" >113.000000</td>\n",
       "    </tr>\n",
       "    <tr>\n",
       "      <th id=\"T_07f51_level0_row6\" class=\"row_heading level0 row6\" >75%</th>\n",
       "      <td id=\"T_07f51_row6_col0\" class=\"data row6 col0\" >1662742697.000000</td>\n",
       "      <td id=\"T_07f51_row6_col1\" class=\"data row6 col1\" >1605477865.500000</td>\n",
       "      <td id=\"T_07f51_row6_col2\" class=\"data row6 col2\" >178.000000</td>\n",
       "    </tr>\n",
       "    <tr>\n",
       "      <th id=\"T_07f51_level0_row7\" class=\"row_heading level0 row7\" >max</th>\n",
       "      <td id=\"T_07f51_row7_col0\" class=\"data row7 col0\" >2118949241.000000</td>\n",
       "      <td id=\"T_07f51_row7_col1\" class=\"data row7 col1\" >2147465106.000000</td>\n",
       "      <td id=\"T_07f51_row7_col2\" class=\"data row7 col2\" >254.000000</td>\n",
       "    </tr>\n",
       "  </tbody>\n",
       "</table>\n"
      ],
      "text/plain": [
       "<pandas.io.formats.style.Styler at 0x7a00c18fe0b0>"
      ]
     },
     "metadata": {},
     "output_type": "display_data"
    }
   ],
   "source": [
    "# Calculate the statistical of the dataset\n",
    "styled_data = train_df.describe().style\\\n",
    ".background_gradient(cmap='coolwarm')\\\n",
    ".set_properties(**{'text-align':'center','border':'1px solid black'})\n",
    "\n",
    "# display styled data\n",
    "display(styled_data)"
   ]
  },
  {
   "cell_type": "code",
   "execution_count": 6,
   "id": "c1331874",
   "metadata": {
    "execution": {
     "iopub.execute_input": "2023-05-28T10:22:54.290098Z",
     "iopub.status.busy": "2023-05-28T10:22:54.289780Z",
     "iopub.status.idle": "2023-05-28T10:22:54.295102Z",
     "shell.execute_reply": "2023-05-28T10:22:54.294013Z"
    },
    "papermill": {
     "duration": 0.015775,
     "end_time": "2023-05-28T10:22:54.297201",
     "exception": false,
     "start_time": "2023-05-28T10:22:54.281426",
     "status": "completed"
    },
    "tags": []
   },
   "outputs": [],
   "source": [
    "sequence_id = 1817362238\n",
    "file_id = 5414471"
   ]
  },
  {
   "cell_type": "code",
   "execution_count": 7,
   "id": "3e4fd484",
   "metadata": {
    "execution": {
     "iopub.execute_input": "2023-05-28T10:22:54.313972Z",
     "iopub.status.busy": "2023-05-28T10:22:54.313580Z",
     "iopub.status.idle": "2023-05-28T10:23:10.591981Z",
     "shell.execute_reply": "2023-05-28T10:23:10.590996Z"
    },
    "papermill": {
     "duration": 16.289316,
     "end_time": "2023-05-28T10:23:10.594237",
     "exception": false,
     "start_time": "2023-05-28T10:22:54.304921",
     "status": "completed"
    },
    "tags": []
   },
   "outputs": [],
   "source": [
    "sign_path = f\"/kaggle/input/asl-fingerspelling/train_landmarks/{file_id}.parquet\"\n",
    "sign = pd.read_parquet(sign_path)\n"
   ]
  },
  {
   "cell_type": "code",
   "execution_count": 8,
   "id": "6bf6d9e8",
   "metadata": {
    "execution": {
     "iopub.execute_input": "2023-05-28T10:23:10.613033Z",
     "iopub.status.busy": "2023-05-28T10:23:10.611717Z",
     "iopub.status.idle": "2023-05-28T10:23:10.623521Z",
     "shell.execute_reply": "2023-05-28T10:23:10.621664Z"
    },
    "papermill": {
     "duration": 0.022893,
     "end_time": "2023-05-28T10:23:10.626052",
     "exception": false,
     "start_time": "2023-05-28T10:23:10.603159",
     "status": "completed"
    },
    "tags": []
   },
   "outputs": [
    {
     "data": {
      "text/plain": [
       "1000"
      ]
     },
     "execution_count": 8,
     "metadata": {},
     "output_type": "execute_result"
    }
   ],
   "source": [
    "len(np.unique(sign.index))"
   ]
  },
  {
   "cell_type": "code",
   "execution_count": 9,
   "id": "0b65b929",
   "metadata": {
    "execution": {
     "iopub.execute_input": "2023-05-28T10:23:10.643475Z",
     "iopub.status.busy": "2023-05-28T10:23:10.642754Z",
     "iopub.status.idle": "2023-05-28T10:23:10.650289Z",
     "shell.execute_reply": "2023-05-28T10:23:10.649078Z"
    },
    "papermill": {
     "duration": 0.018211,
     "end_time": "2023-05-28T10:23:10.652288",
     "exception": false,
     "start_time": "2023-05-28T10:23:10.634077",
     "status": "completed"
    },
    "tags": []
   },
   "outputs": [],
   "source": [
    "sequence = sign[sign.index == sequence_id]"
   ]
  },
  {
   "cell_type": "code",
   "execution_count": 10,
   "id": "1bee6990",
   "metadata": {
    "execution": {
     "iopub.execute_input": "2023-05-28T10:23:10.668788Z",
     "iopub.status.busy": "2023-05-28T10:23:10.668423Z",
     "iopub.status.idle": "2023-05-28T10:23:10.773607Z",
     "shell.execute_reply": "2023-05-28T10:23:10.772329Z"
    },
    "papermill": {
     "duration": 0.116677,
     "end_time": "2023-05-28T10:23:10.776524",
     "exception": false,
     "start_time": "2023-05-28T10:23:10.659847",
     "status": "completed"
    },
    "tags": []
   },
   "outputs": [
    {
     "data": {
      "text/html": [
       "<style type=\"text/css\">\n",
       "#T_7d26e_row0_col0, #T_7d26e_row0_col1, #T_7d26e_row0_col2, #T_7d26e_row0_col3, #T_7d26e_row0_col4, #T_7d26e_row1_col0, #T_7d26e_row1_col1, #T_7d26e_row1_col2, #T_7d26e_row1_col3, #T_7d26e_row1_col4, #T_7d26e_row2_col0, #T_7d26e_row2_col1, #T_7d26e_row2_col2, #T_7d26e_row2_col3, #T_7d26e_row2_col4, #T_7d26e_row3_col0, #T_7d26e_row3_col1, #T_7d26e_row3_col2, #T_7d26e_row3_col3, #T_7d26e_row3_col4 {\n",
       "  background-color: lightgreen;\n",
       "  color: black;\n",
       "  border-color: #8b8c8c;\n",
       "}\n",
       "</style>\n",
       "<table id=\"T_7d26e\">\n",
       "  <thead>\n",
       "    <tr>\n",
       "      <th class=\"blank level0\" >&nbsp;</th>\n",
       "      <th id=\"T_7d26e_level0_col0\" class=\"col_heading level0 col0\" >path</th>\n",
       "      <th id=\"T_7d26e_level0_col1\" class=\"col_heading level0 col1\" >file_id</th>\n",
       "      <th id=\"T_7d26e_level0_col2\" class=\"col_heading level0 col2\" >sequence_id</th>\n",
       "      <th id=\"T_7d26e_level0_col3\" class=\"col_heading level0 col3\" >participant_id</th>\n",
       "      <th id=\"T_7d26e_level0_col4\" class=\"col_heading level0 col4\" >phrase</th>\n",
       "    </tr>\n",
       "  </thead>\n",
       "  <tbody>\n",
       "    <tr>\n",
       "      <th id=\"T_7d26e_level0_row0\" class=\"row_heading level0 row0\" >0</th>\n",
       "      <td id=\"T_7d26e_row0_col0\" class=\"data row0 col0\" >supplemental_landmarks/33432165.parquet</td>\n",
       "      <td id=\"T_7d26e_row0_col1\" class=\"data row0 col1\" >33432165</td>\n",
       "      <td id=\"T_7d26e_row0_col2\" class=\"data row0 col2\" >1535467051</td>\n",
       "      <td id=\"T_7d26e_row0_col3\" class=\"data row0 col3\" >251</td>\n",
       "      <td id=\"T_7d26e_row0_col4\" class=\"data row0 col4\" >coming up with killer sound bites</td>\n",
       "    </tr>\n",
       "    <tr>\n",
       "      <th id=\"T_7d26e_level0_row1\" class=\"row_heading level0 row1\" >1</th>\n",
       "      <td id=\"T_7d26e_row1_col0\" class=\"data row1 col0\" >supplemental_landmarks/33432165.parquet</td>\n",
       "      <td id=\"T_7d26e_row1_col1\" class=\"data row1 col1\" >33432165</td>\n",
       "      <td id=\"T_7d26e_row1_col2\" class=\"data row1 col2\" >1535499058</td>\n",
       "      <td id=\"T_7d26e_row1_col3\" class=\"data row1 col3\" >239</td>\n",
       "      <td id=\"T_7d26e_row1_col4\" class=\"data row1 col4\" >we better investigate this</td>\n",
       "    </tr>\n",
       "    <tr>\n",
       "      <th id=\"T_7d26e_level0_row2\" class=\"row_heading level0 row2\" >2</th>\n",
       "      <td id=\"T_7d26e_row2_col0\" class=\"data row2 col0\" >supplemental_landmarks/33432165.parquet</td>\n",
       "      <td id=\"T_7d26e_row2_col1\" class=\"data row2 col1\" >33432165</td>\n",
       "      <td id=\"T_7d26e_row2_col2\" class=\"data row2 col2\" >1535530550</td>\n",
       "      <td id=\"T_7d26e_row2_col3\" class=\"data row2 col3\" >245</td>\n",
       "      <td id=\"T_7d26e_row2_col4\" class=\"data row2 col4\" >interesting observation was made</td>\n",
       "    </tr>\n",
       "    <tr>\n",
       "      <th id=\"T_7d26e_level0_row3\" class=\"row_heading level0 row3\" >3</th>\n",
       "      <td id=\"T_7d26e_row3_col0\" class=\"data row3 col0\" >supplemental_landmarks/33432165.parquet</td>\n",
       "      <td id=\"T_7d26e_row3_col1\" class=\"data row3 col1\" >33432165</td>\n",
       "      <td id=\"T_7d26e_row3_col2\" class=\"data row3 col2\" >1535545499</td>\n",
       "      <td id=\"T_7d26e_row3_col3\" class=\"data row3 col3\" >38</td>\n",
       "      <td id=\"T_7d26e_row3_col4\" class=\"data row3 col4\" >victims deserve more redress</td>\n",
       "    </tr>\n",
       "  </tbody>\n",
       "</table>\n"
      ],
      "text/plain": [
       "<pandas.io.formats.style.Styler at 0x7a008323b280>"
      ]
     },
     "execution_count": 10,
     "metadata": {},
     "output_type": "execute_result"
    }
   ],
   "source": [
    "suppl_df = pd.read_csv('/kaggle/input/asl-fingerspelling/supplemental_metadata.csv')\n",
    "suppl_df.head(4).style.set_properties(**{'background-color':'lightgreen','color':'black','border-color':'#8b8c8c'})"
   ]
  },
  {
   "cell_type": "code",
   "execution_count": 11,
   "id": "1ac65722",
   "metadata": {
    "execution": {
     "iopub.execute_input": "2023-05-28T10:23:10.794240Z",
     "iopub.status.busy": "2023-05-28T10:23:10.793883Z",
     "iopub.status.idle": "2023-05-28T10:23:10.821846Z",
     "shell.execute_reply": "2023-05-28T10:23:10.820406Z"
    },
    "papermill": {
     "duration": 0.039759,
     "end_time": "2023-05-28T10:23:10.824434",
     "exception": false,
     "start_time": "2023-05-28T10:23:10.784675",
     "status": "completed"
    },
    "tags": []
   },
   "outputs": [
    {
     "name": "stdout",
     "output_type": "stream",
     "text": [
      "(52958, 5)\n",
      "<class 'pandas.core.frame.DataFrame'>\n",
      "RangeIndex: 52958 entries, 0 to 52957\n",
      "Data columns (total 5 columns):\n",
      " #   Column          Non-Null Count  Dtype \n",
      "---  ------          --------------  ----- \n",
      " 0   path            52958 non-null  object\n",
      " 1   file_id         52958 non-null  int64 \n",
      " 2   sequence_id     52958 non-null  int64 \n",
      " 3   participant_id  52958 non-null  int64 \n",
      " 4   phrase          52958 non-null  object\n",
      "dtypes: int64(3), object(2)\n",
      "memory usage: 2.0+ MB\n",
      "None\n"
     ]
    }
   ],
   "source": [
    "# Check the dimensions of the dataset\n",
    "print(suppl_df.shape)\n",
    "\n",
    "# Check the data types of columns\n",
    "print(suppl_df.info())"
   ]
  },
  {
   "cell_type": "code",
   "execution_count": 12,
   "id": "54e5a932",
   "metadata": {
    "execution": {
     "iopub.execute_input": "2023-05-28T10:23:10.842371Z",
     "iopub.status.busy": "2023-05-28T10:23:10.842038Z",
     "iopub.status.idle": "2023-05-28T10:23:10.866976Z",
     "shell.execute_reply": "2023-05-28T10:23:10.866326Z"
    },
    "papermill": {
     "duration": 0.036309,
     "end_time": "2023-05-28T10:23:10.869082",
     "exception": false,
     "start_time": "2023-05-28T10:23:10.832773",
     "status": "completed"
    },
    "tags": []
   },
   "outputs": [
    {
     "data": {
      "text/html": [
       "<style type=\"text/css\">\n",
       "#T_043bd_row0_col0, #T_043bd_row0_col1, #T_043bd_row1_col2, #T_043bd_row2_col2, #T_043bd_row3_col1, #T_043bd_row3_col2, #T_043bd_row4_col2, #T_043bd_row5_col2 {\n",
       "  background-color: #3b4cc0;\n",
       "  color: #f1f1f1;\n",
       "  text-align: center;\n",
       "  border: 1px solid black;\n",
       "}\n",
       "#T_043bd_row0_col2, #T_043bd_row7_col0, #T_043bd_row7_col1 {\n",
       "  background-color: #b40426;\n",
       "  color: #f1f1f1;\n",
       "  text-align: center;\n",
       "  border: 1px solid black;\n",
       "}\n",
       "#T_043bd_row1_col0 {\n",
       "  background-color: #d3dbe7;\n",
       "  color: #000000;\n",
       "  text-align: center;\n",
       "  border: 1px solid black;\n",
       "}\n",
       "#T_043bd_row1_col1, #T_043bd_row5_col1 {\n",
       "  background-color: #dcdddd;\n",
       "  color: #000000;\n",
       "  text-align: center;\n",
       "  border: 1px solid black;\n",
       "}\n",
       "#T_043bd_row2_col0 {\n",
       "  background-color: #96b7ff;\n",
       "  color: #000000;\n",
       "  text-align: center;\n",
       "  border: 1px solid black;\n",
       "}\n",
       "#T_043bd_row2_col1 {\n",
       "  background-color: #9abbff;\n",
       "  color: #000000;\n",
       "  text-align: center;\n",
       "  border: 1px solid black;\n",
       "}\n",
       "#T_043bd_row3_col0 {\n",
       "  background-color: #3f53c6;\n",
       "  color: #f1f1f1;\n",
       "  text-align: center;\n",
       "  border: 1px solid black;\n",
       "}\n",
       "#T_043bd_row4_col0 {\n",
       "  background-color: #84a7fc;\n",
       "  color: #f1f1f1;\n",
       "  text-align: center;\n",
       "  border: 1px solid black;\n",
       "}\n",
       "#T_043bd_row4_col1 {\n",
       "  background-color: #8db0fe;\n",
       "  color: #000000;\n",
       "  text-align: center;\n",
       "  border: 1px solid black;\n",
       "}\n",
       "#T_043bd_row5_col0 {\n",
       "  background-color: #c9d7f0;\n",
       "  color: #000000;\n",
       "  text-align: center;\n",
       "  border: 1px solid black;\n",
       "}\n",
       "#T_043bd_row6_col0 {\n",
       "  background-color: #f7ac8e;\n",
       "  color: #000000;\n",
       "  text-align: center;\n",
       "  border: 1px solid black;\n",
       "}\n",
       "#T_043bd_row6_col1 {\n",
       "  background-color: #f49a7b;\n",
       "  color: #000000;\n",
       "  text-align: center;\n",
       "  border: 1px solid black;\n",
       "}\n",
       "#T_043bd_row6_col2, #T_043bd_row7_col2 {\n",
       "  background-color: #3c4ec2;\n",
       "  color: #f1f1f1;\n",
       "  text-align: center;\n",
       "  border: 1px solid black;\n",
       "}\n",
       "</style>\n",
       "<table id=\"T_043bd\">\n",
       "  <thead>\n",
       "    <tr>\n",
       "      <th class=\"blank level0\" >&nbsp;</th>\n",
       "      <th id=\"T_043bd_level0_col0\" class=\"col_heading level0 col0\" >file_id</th>\n",
       "      <th id=\"T_043bd_level0_col1\" class=\"col_heading level0 col1\" >sequence_id</th>\n",
       "      <th id=\"T_043bd_level0_col2\" class=\"col_heading level0 col2\" >participant_id</th>\n",
       "    </tr>\n",
       "  </thead>\n",
       "  <tbody>\n",
       "    <tr>\n",
       "      <th id=\"T_043bd_level0_row0\" class=\"row_heading level0 row0\" >count</th>\n",
       "      <td id=\"T_043bd_row0_col0\" class=\"data row0 col0\" >52958.000000</td>\n",
       "      <td id=\"T_043bd_row0_col1\" class=\"data row0 col1\" >52958.000000</td>\n",
       "      <td id=\"T_043bd_row0_col2\" class=\"data row0 col2\" >52958.000000</td>\n",
       "    </tr>\n",
       "    <tr>\n",
       "      <th id=\"T_043bd_level0_row1\" class=\"row_heading level0 row1\" >mean</th>\n",
       "      <td id=\"T_043bd_row1_col0\" class=\"data row1 col0\" >968039213.216889</td>\n",
       "      <td id=\"T_043bd_row1_col1\" class=\"data row1 col1\" >1072800152.741191</td>\n",
       "      <td id=\"T_043bd_row1_col2\" class=\"data row1 col2\" >132.738661</td>\n",
       "    </tr>\n",
       "    <tr>\n",
       "      <th id=\"T_043bd_level0_row2\" class=\"row_heading level0 row2\" >std</th>\n",
       "      <td id=\"T_043bd_row2_col0\" class=\"data row2 col0\" >577928763.278782</td>\n",
       "      <td id=\"T_043bd_row2_col1\" class=\"data row2 col1\" >616574821.784176</td>\n",
       "      <td id=\"T_043bd_row2_col2\" class=\"data row2 col2\" >81.745528</td>\n",
       "    </tr>\n",
       "    <tr>\n",
       "      <th id=\"T_043bd_level0_row3\" class=\"row_heading level0 row3\" >min</th>\n",
       "      <td id=\"T_043bd_row3_col0\" class=\"data row3 col0\" >33432165.000000</td>\n",
       "      <td id=\"T_043bd_row3_col1\" class=\"data row3 col1\" >28699.000000</td>\n",
       "      <td id=\"T_043bd_row3_col2\" class=\"data row3 col2\" >0.000000</td>\n",
       "    </tr>\n",
       "    <tr>\n",
       "      <th id=\"T_043bd_level0_row4\" class=\"row_heading level0 row4\" >25%</th>\n",
       "      <td id=\"T_043bd_row4_col0\" class=\"data row4 col0\" >471766624.000000</td>\n",
       "      <td id=\"T_043bd_row4_col1\" class=\"data row4 col1\" >541130791.000000</td>\n",
       "      <td id=\"T_043bd_row4_col2\" class=\"data row4 col2\" >53.000000</td>\n",
       "    </tr>\n",
       "    <tr>\n",
       "      <th id=\"T_043bd_level0_row5\" class=\"row_heading level0 row5\" >50%</th>\n",
       "      <td id=\"T_043bd_row5_col0\" class=\"data row5 col0\" >897287709.000000</td>\n",
       "      <td id=\"T_043bd_row5_col1\" class=\"data row5 col1\" >1069840365.000000</td>\n",
       "      <td id=\"T_043bd_row5_col2\" class=\"data row5 col2\" >135.000000</td>\n",
       "    </tr>\n",
       "    <tr>\n",
       "      <th id=\"T_043bd_level0_row6\" class=\"row_heading level0 row6\" >75%</th>\n",
       "      <td id=\"T_043bd_row6_col0\" class=\"data row6 col0\" >1471341722.000000</td>\n",
       "      <td id=\"T_043bd_row6_col1\" class=\"data row6 col1\" >1606032034.500000</td>\n",
       "      <td id=\"T_043bd_row6_col2\" class=\"data row6 col2\" >216.000000</td>\n",
       "    </tr>\n",
       "    <tr>\n",
       "      <th id=\"T_043bd_level0_row7\" class=\"row_heading level0 row7\" >max</th>\n",
       "      <td id=\"T_043bd_row7_col0\" class=\"data row7 col0\" >2100073719.000000</td>\n",
       "      <td id=\"T_043bd_row7_col1\" class=\"data row7 col1\" >2147472980.000000</td>\n",
       "      <td id=\"T_043bd_row7_col2\" class=\"data row7 col2\" >254.000000</td>\n",
       "    </tr>\n",
       "  </tbody>\n",
       "</table>\n"
      ],
      "text/plain": [
       "<pandas.io.formats.style.Styler at 0x7a008323b100>"
      ]
     },
     "metadata": {},
     "output_type": "display_data"
    }
   ],
   "source": [
    "# Calculate the statistical of the dataset\n",
    "styled_data = suppl_df.describe().style\\\n",
    ".background_gradient(cmap='coolwarm')\\\n",
    ".set_properties(**{'text-align':'center','border':'1px solid black'})\n",
    "\n",
    "# display styled data\n",
    "display(styled_data)"
   ]
  },
  {
   "cell_type": "code",
   "execution_count": 13,
   "id": "aee758cb",
   "metadata": {
    "execution": {
     "iopub.execute_input": "2023-05-28T10:23:10.887783Z",
     "iopub.status.busy": "2023-05-28T10:23:10.887454Z",
     "iopub.status.idle": "2023-05-28T10:23:10.892183Z",
     "shell.execute_reply": "2023-05-28T10:23:10.890995Z"
    },
    "papermill": {
     "duration": 0.016869,
     "end_time": "2023-05-28T10:23:10.894222",
     "exception": false,
     "start_time": "2023-05-28T10:23:10.877353",
     "status": "completed"
    },
    "tags": []
   },
   "outputs": [],
   "source": [
    "sequence_id = 1535585216\n",
    "file_id = 33432165"
   ]
  },
  {
   "cell_type": "code",
   "execution_count": 14,
   "id": "a07a59a7",
   "metadata": {
    "execution": {
     "iopub.execute_input": "2023-05-28T10:23:10.913850Z",
     "iopub.status.busy": "2023-05-28T10:23:10.913526Z",
     "iopub.status.idle": "2023-05-28T10:23:26.057575Z",
     "shell.execute_reply": "2023-05-28T10:23:26.055980Z"
    },
    "papermill": {
     "duration": 15.158228,
     "end_time": "2023-05-28T10:23:26.061034",
     "exception": false,
     "start_time": "2023-05-28T10:23:10.902806",
     "status": "completed"
    },
    "tags": []
   },
   "outputs": [],
   "source": [
    "sign_path = f\"/kaggle/input/asl-fingerspelling/supplemental_landmarks/{file_id}.parquet\"\n",
    "sign = pd.read_parquet(sign_path)\n"
   ]
  },
  {
   "cell_type": "markdown",
   "id": "374faa30",
   "metadata": {
    "papermill": {
     "duration": 0.00748,
     "end_time": "2023-05-28T10:23:26.077290",
     "exception": false,
     "start_time": "2023-05-28T10:23:26.069810",
     "status": "completed"
    },
    "tags": []
   },
   "source": [
    "# The Evaluation metric - Levenshtein distance:"
   ]
  },
  {
   "cell_type": "markdown",
   "id": "b10858c7",
   "metadata": {
    "papermill": {
     "duration": 0.007351,
     "end_time": "2023-05-28T10:23:26.092084",
     "exception": false,
     "start_time": "2023-05-28T10:23:26.084733",
     "status": "completed"
    },
    "tags": []
   },
   "source": [
    "## What is Levenshtein distance?\n",
    "\n",
    "The Levenshtein distance, or edit distance, is a metric that quantifies the dissimilarity between two strings. It calculates the minimum number of single-character operations (insertions, deletions, or substitutions) needed to transform one string into another.\n",
    "\n",
    "Named after Vladimir Levenshtein, a Soviet mathematician, the concept was introduced in 1965. The Levenshtein distance finds applications in various fields like spell checking, DNA sequence analysis, natural language processing, and computational linguistics.\n",
    "\n",
    "To compute the Levenshtein distance, an algorithm constructs a matrix where each cell represents the cost of transforming one substring to another. Starting from the top-left cell and moving towards the bottom-right, the algorithm compares characters and determines the minimum cost using insertions, deletions, or substitutions. The value in the bottom-right cell represents the Levenshtein distance between the two strings.\n",
    "\n",
    "The Levenshtein distance serves as a similarity measure between strings and is used in tasks such as string matching, string clustering, and fuzzy string searching. It also forms the basis for other string distance metrics, like the Damerau-Levenshtein distance, which incorporates transpositions as an additional operation.\n",
    "\n",
    "In the context of the provided code, the Levenshtein distance is utilized to compute a distance matrix between two sequences. This matrix is then used for model training and performance evaluation."
   ]
  },
  {
   "cell_type": "markdown",
   "id": "7dd5ac8f",
   "metadata": {
    "papermill": {
     "duration": 0.008679,
     "end_time": "2023-05-28T10:23:26.108305",
     "exception": false,
     "start_time": "2023-05-28T10:23:26.099626",
     "status": "completed"
    },
    "tags": []
   },
   "source": [
    "* **Expression Metric**\n",
    "\n",
    "Levenshtein distance, the expression metric = (N - D) / N represents a way to measure the similarity or dissimilarity between two strings based on their Levenshtein distance.\n",
    "\n",
    "Let's break down the components of the expression:\n",
    "\n",
    "* N: N represents the length of the longer string between the two compared strings. It is the maximum possible number of character positions that need to be considered.\n",
    "\n",
    "* D: D corresponds to the Levenshtein distance between the two strings. It is the actual number of single-character edits required to transform one string into the other.\n",
    "\n",
    "The expression (N - D) represents the number of character positions that are unchanged or require no edit operations to transform one string into the other. By subtracting D from N, we obtain the number of common characters or positions between the two strings.\n",
    "\n",
    "Dividing (N - D) by N normalizes this value by the maximum possible number of character positions, N. This normalization results in a similarity metric ranging between 0 and 1, where 0 represents no similarity and 1 indicates an exact match.\n",
    "\n",
    "Therefore, the expression metric = (N - D) / N provides a measure of similarity between two strings based on the Levenshtein distance. A value close to 1 suggests a high degree of similarity, while a value closer to 0 indicates a larger difference between the strings.\n",
    "\n",
    "Ref:[Wikipedia - Levenshtein distance](https://en.wikipedia.org/wiki/Levenshtein_distance)"
   ]
  },
  {
   "cell_type": "markdown",
   "id": "200a8ff8",
   "metadata": {
    "papermill": {
     "duration": 0.007547,
     "end_time": "2023-05-28T10:23:26.124671",
     "exception": false,
     "start_time": "2023-05-28T10:23:26.117124",
     "status": "completed"
    },
    "tags": []
   },
   "source": [
    "For example, the Levenshtein distance between \"kitten\" and \"sitting\" is 3, since the following 3 edits change one into the other, and there is no way to do it with fewer than 3 edits:\n",
    "\n",
    "* kitten → sitten (substitution of \"s\" for \"k\"),\n",
    "* sitten → sittin (substitution of \"i\" for \"e\"),\n",
    "* sittin → sitting (insertion of \"g\" at the end).\n",
    "\n",
    "![image](https://upload.wikimedia.org/wikipedia/commons/d/d1/Levenshtein_distance_animation.gif)"
   ]
  },
  {
   "cell_type": "code",
   "execution_count": 15,
   "id": "cfbc3124",
   "metadata": {
    "execution": {
     "iopub.execute_input": "2023-05-28T10:23:26.142694Z",
     "iopub.status.busy": "2023-05-28T10:23:26.142213Z",
     "iopub.status.idle": "2023-05-28T10:23:26.148958Z",
     "shell.execute_reply": "2023-05-28T10:23:26.146556Z"
    },
    "papermill": {
     "duration": 0.019146,
     "end_time": "2023-05-28T10:23:26.151744",
     "exception": false,
     "start_time": "2023-05-28T10:23:26.132598",
     "status": "completed"
    },
    "tags": []
   },
   "outputs": [],
   "source": [
    "from Levenshtein import distance as lev"
   ]
  },
  {
   "cell_type": "code",
   "execution_count": 16,
   "id": "c182738f",
   "metadata": {
    "execution": {
     "iopub.execute_input": "2023-05-28T10:23:26.171700Z",
     "iopub.status.busy": "2023-05-28T10:23:26.171345Z",
     "iopub.status.idle": "2023-05-28T10:23:26.179456Z",
     "shell.execute_reply": "2023-05-28T10:23:26.177584Z"
    },
    "papermill": {
     "duration": 0.021697,
     "end_time": "2023-05-28T10:23:26.182185",
     "exception": false,
     "start_time": "2023-05-28T10:23:26.160488",
     "status": "completed"
    },
    "tags": []
   },
   "outputs": [],
   "source": [
    "def levenshtein(seq1, seq2):\n",
    "    size_x = len(seq1) + 1\n",
    "    size_y = len(seq2) + 1\n",
    "    matrix = np.zeros((size_x, size_y))\n",
    "\n",
    "    for x in range(size_x):\n",
    "        matrix[x, 0] = x\n",
    "\n",
    "    for y in range(size_y):\n",
    "        matrix[0, y] = y\n",
    "\n",
    "    for x in range(1, size_x):\n",
    "        for y in range(1, size_y):\n",
    "            if seq1[x-1] == seq2[y-1]:\n",
    "                matrix[x, y] = min(\n",
    "                    matrix[x-1, y] + 1,\n",
    "                    matrix[x-1, y-1],\n",
    "                    matrix[x, y-1] + 1\n",
    "                )\n",
    "            else:\n",
    "                matrix[x, y] = min(\n",
    "                    matrix[x-1, y] + 1,\n",
    "                    matrix[x-1, y-1] + 1,\n",
    "                    matrix[x, y-1] + 1\n",
    "                )\n",
    "\n",
    "    return matrix[size_x - 1, size_y - 1]\n"
   ]
  },
  {
   "cell_type": "code",
   "execution_count": 17,
   "id": "7040e4e7",
   "metadata": {
    "execution": {
     "iopub.execute_input": "2023-05-28T10:23:26.200368Z",
     "iopub.status.busy": "2023-05-28T10:23:26.199960Z",
     "iopub.status.idle": "2023-05-28T10:23:26.586991Z",
     "shell.execute_reply": "2023-05-28T10:23:26.585479Z"
    },
    "papermill": {
     "duration": 0.399195,
     "end_time": "2023-05-28T10:23:26.589748",
     "exception": false,
     "start_time": "2023-05-28T10:23:26.190553",
     "status": "completed"
    },
    "tags": []
   },
   "outputs": [
    {
     "name": "stdout",
     "output_type": "stream",
     "text": [
      "Levenshtein Distance: 12.0\n"
     ]
    },
    {
     "data": {
      "text/html": [
       "        <script type=\"text/javascript\">\n",
       "        window.PlotlyConfig = {MathJaxConfig: 'local'};\n",
       "        if (window.MathJax && window.MathJax.Hub && window.MathJax.Hub.Config) {window.MathJax.Hub.Config({SVG: {font: \"STIX-Web\"}});}\n",
       "        if (typeof require !== 'undefined') {\n",
       "        require.undef(\"plotly\");\n",
       "        requirejs.config({\n",
       "            paths: {\n",
       "                'plotly': ['https://cdn.plot.ly/plotly-2.20.0.min']\n",
       "            }\n",
       "        });\n",
       "        require(['plotly'], function(Plotly) {\n",
       "            window._Plotly = Plotly;\n",
       "        });\n",
       "        }\n",
       "        </script>\n",
       "        "
      ]
     },
     "metadata": {},
     "output_type": "display_data"
    },
    {
     "data": {
      "text/html": [
       "<div>                            <div id=\"2717680f-072a-4a65-85eb-f6c8b844a85c\" class=\"plotly-graph-div\" style=\"height:525px; width:100%;\"></div>            <script type=\"text/javascript\">                require([\"plotly\"], function(Plotly) {                    window.PLOTLYENV=window.PLOTLYENV || {};                                    if (document.getElementById(\"2717680f-072a-4a65-85eb-f6c8b844a85c\")) {                    Plotly.newPlot(                        \"2717680f-072a-4a65-85eb-f6c8b844a85c\",                        [{\"colorscale\":[[0.0,\"#440154\"],[0.1111111111111111,\"#482878\"],[0.2222222222222222,\"#3e4989\"],[0.3333333333333333,\"#31688e\"],[0.4444444444444444,\"#26828e\"],[0.5555555555555556,\"#1f9e89\"],[0.6666666666666666,\"#35b779\"],[0.7777777777777778,\"#6ece58\"],[0.8888888888888888,\"#b5de2b\"],[1.0,\"#fde725\"]],\"z\":[[0.0,0.0,0.0,0.0,0.0,0.0,0.0,0.0,0.0,0.0,0.0,0.0,0.0,0.0,0.0,0.0],[0.0,0.0,0.0,0.0,0.0,0.0,0.0,0.0,0.0,0.0,0.0,0.0,0.0,0.0,0.0,0.0],[0.0,0.0,0.0,0.0,0.0,0.0,0.0,0.0,0.0,0.0,0.0,0.0,0.0,0.0,0.0,0.0],[0.0,0.0,0.0,0.0,0.0,0.0,0.0,0.0,0.0,0.0,0.0,0.0,0.0,0.0,0.0,0.0],[0.0,0.0,0.0,0.0,0.0,0.0,0.0,0.0,0.0,0.0,0.0,0.0,0.0,0.0,0.0,0.0],[0.0,0.0,0.0,0.0,0.0,0.0,0.0,0.0,0.0,0.0,0.0,0.0,0.0,0.0,0.0,0.0],[0.0,0.0,0.0,0.0,0.0,0.0,0.0,0.0,0.0,0.0,0.0,0.0,0.0,0.0,0.0,0.0],[0.0,0.0,0.0,0.0,0.0,0.0,0.0,0.0,0.0,0.0,0.0,0.0,0.0,0.0,0.0,0.0],[0.0,0.0,0.0,0.0,0.0,0.0,0.0,0.0,0.0,0.0,0.0,0.0,0.0,0.0,0.0,0.0],[0.0,0.0,0.0,0.0,0.0,0.0,0.0,0.0,0.0,0.0,0.0,0.0,0.0,0.0,0.0,0.0],[0.0,0.0,0.0,0.0,0.0,0.0,0.0,0.0,0.0,0.0,0.0,0.0,0.0,0.0,0.0,0.0],[0.0,0.0,0.0,0.0,0.0,0.0,0.0,0.0,0.0,0.0,0.0,0.0,0.0,0.0,0.0,0.0],[0.0,0.0,0.0,0.0,0.0,0.0,0.0,0.0,0.0,0.0,0.0,0.0,0.0,0.0,0.0,0.0]],\"type\":\"heatmap\"}],                        {\"template\":{\"data\":{\"histogram2dcontour\":[{\"type\":\"histogram2dcontour\",\"colorbar\":{\"outlinewidth\":0,\"ticks\":\"\"},\"colorscale\":[[0.0,\"#0d0887\"],[0.1111111111111111,\"#46039f\"],[0.2222222222222222,\"#7201a8\"],[0.3333333333333333,\"#9c179e\"],[0.4444444444444444,\"#bd3786\"],[0.5555555555555556,\"#d8576b\"],[0.6666666666666666,\"#ed7953\"],[0.7777777777777778,\"#fb9f3a\"],[0.8888888888888888,\"#fdca26\"],[1.0,\"#f0f921\"]]}],\"choropleth\":[{\"type\":\"choropleth\",\"colorbar\":{\"outlinewidth\":0,\"ticks\":\"\"}}],\"histogram2d\":[{\"type\":\"histogram2d\",\"colorbar\":{\"outlinewidth\":0,\"ticks\":\"\"},\"colorscale\":[[0.0,\"#0d0887\"],[0.1111111111111111,\"#46039f\"],[0.2222222222222222,\"#7201a8\"],[0.3333333333333333,\"#9c179e\"],[0.4444444444444444,\"#bd3786\"],[0.5555555555555556,\"#d8576b\"],[0.6666666666666666,\"#ed7953\"],[0.7777777777777778,\"#fb9f3a\"],[0.8888888888888888,\"#fdca26\"],[1.0,\"#f0f921\"]]}],\"heatmap\":[{\"type\":\"heatmap\",\"colorbar\":{\"outlinewidth\":0,\"ticks\":\"\"},\"colorscale\":[[0.0,\"#0d0887\"],[0.1111111111111111,\"#46039f\"],[0.2222222222222222,\"#7201a8\"],[0.3333333333333333,\"#9c179e\"],[0.4444444444444444,\"#bd3786\"],[0.5555555555555556,\"#d8576b\"],[0.6666666666666666,\"#ed7953\"],[0.7777777777777778,\"#fb9f3a\"],[0.8888888888888888,\"#fdca26\"],[1.0,\"#f0f921\"]]}],\"heatmapgl\":[{\"type\":\"heatmapgl\",\"colorbar\":{\"outlinewidth\":0,\"ticks\":\"\"},\"colorscale\":[[0.0,\"#0d0887\"],[0.1111111111111111,\"#46039f\"],[0.2222222222222222,\"#7201a8\"],[0.3333333333333333,\"#9c179e\"],[0.4444444444444444,\"#bd3786\"],[0.5555555555555556,\"#d8576b\"],[0.6666666666666666,\"#ed7953\"],[0.7777777777777778,\"#fb9f3a\"],[0.8888888888888888,\"#fdca26\"],[1.0,\"#f0f921\"]]}],\"contourcarpet\":[{\"type\":\"contourcarpet\",\"colorbar\":{\"outlinewidth\":0,\"ticks\":\"\"}}],\"contour\":[{\"type\":\"contour\",\"colorbar\":{\"outlinewidth\":0,\"ticks\":\"\"},\"colorscale\":[[0.0,\"#0d0887\"],[0.1111111111111111,\"#46039f\"],[0.2222222222222222,\"#7201a8\"],[0.3333333333333333,\"#9c179e\"],[0.4444444444444444,\"#bd3786\"],[0.5555555555555556,\"#d8576b\"],[0.6666666666666666,\"#ed7953\"],[0.7777777777777778,\"#fb9f3a\"],[0.8888888888888888,\"#fdca26\"],[1.0,\"#f0f921\"]]}],\"surface\":[{\"type\":\"surface\",\"colorbar\":{\"outlinewidth\":0,\"ticks\":\"\"},\"colorscale\":[[0.0,\"#0d0887\"],[0.1111111111111111,\"#46039f\"],[0.2222222222222222,\"#7201a8\"],[0.3333333333333333,\"#9c179e\"],[0.4444444444444444,\"#bd3786\"],[0.5555555555555556,\"#d8576b\"],[0.6666666666666666,\"#ed7953\"],[0.7777777777777778,\"#fb9f3a\"],[0.8888888888888888,\"#fdca26\"],[1.0,\"#f0f921\"]]}],\"mesh3d\":[{\"type\":\"mesh3d\",\"colorbar\":{\"outlinewidth\":0,\"ticks\":\"\"}}],\"scatter\":[{\"fillpattern\":{\"fillmode\":\"overlay\",\"size\":10,\"solidity\":0.2},\"type\":\"scatter\"}],\"parcoords\":[{\"type\":\"parcoords\",\"line\":{\"colorbar\":{\"outlinewidth\":0,\"ticks\":\"\"}}}],\"scatterpolargl\":[{\"type\":\"scatterpolargl\",\"marker\":{\"colorbar\":{\"outlinewidth\":0,\"ticks\":\"\"}}}],\"bar\":[{\"error_x\":{\"color\":\"#2a3f5f\"},\"error_y\":{\"color\":\"#2a3f5f\"},\"marker\":{\"line\":{\"color\":\"#E5ECF6\",\"width\":0.5},\"pattern\":{\"fillmode\":\"overlay\",\"size\":10,\"solidity\":0.2}},\"type\":\"bar\"}],\"scattergeo\":[{\"type\":\"scattergeo\",\"marker\":{\"colorbar\":{\"outlinewidth\":0,\"ticks\":\"\"}}}],\"scatterpolar\":[{\"type\":\"scatterpolar\",\"marker\":{\"colorbar\":{\"outlinewidth\":0,\"ticks\":\"\"}}}],\"histogram\":[{\"marker\":{\"pattern\":{\"fillmode\":\"overlay\",\"size\":10,\"solidity\":0.2}},\"type\":\"histogram\"}],\"scattergl\":[{\"type\":\"scattergl\",\"marker\":{\"colorbar\":{\"outlinewidth\":0,\"ticks\":\"\"}}}],\"scatter3d\":[{\"type\":\"scatter3d\",\"line\":{\"colorbar\":{\"outlinewidth\":0,\"ticks\":\"\"}},\"marker\":{\"colorbar\":{\"outlinewidth\":0,\"ticks\":\"\"}}}],\"scattermapbox\":[{\"type\":\"scattermapbox\",\"marker\":{\"colorbar\":{\"outlinewidth\":0,\"ticks\":\"\"}}}],\"scatterternary\":[{\"type\":\"scatterternary\",\"marker\":{\"colorbar\":{\"outlinewidth\":0,\"ticks\":\"\"}}}],\"scattercarpet\":[{\"type\":\"scattercarpet\",\"marker\":{\"colorbar\":{\"outlinewidth\":0,\"ticks\":\"\"}}}],\"carpet\":[{\"aaxis\":{\"endlinecolor\":\"#2a3f5f\",\"gridcolor\":\"white\",\"linecolor\":\"white\",\"minorgridcolor\":\"white\",\"startlinecolor\":\"#2a3f5f\"},\"baxis\":{\"endlinecolor\":\"#2a3f5f\",\"gridcolor\":\"white\",\"linecolor\":\"white\",\"minorgridcolor\":\"white\",\"startlinecolor\":\"#2a3f5f\"},\"type\":\"carpet\"}],\"table\":[{\"cells\":{\"fill\":{\"color\":\"#EBF0F8\"},\"line\":{\"color\":\"white\"}},\"header\":{\"fill\":{\"color\":\"#C8D4E3\"},\"line\":{\"color\":\"white\"}},\"type\":\"table\"}],\"barpolar\":[{\"marker\":{\"line\":{\"color\":\"#E5ECF6\",\"width\":0.5},\"pattern\":{\"fillmode\":\"overlay\",\"size\":10,\"solidity\":0.2}},\"type\":\"barpolar\"}],\"pie\":[{\"automargin\":true,\"type\":\"pie\"}]},\"layout\":{\"autotypenumbers\":\"strict\",\"colorway\":[\"#636efa\",\"#EF553B\",\"#00cc96\",\"#ab63fa\",\"#FFA15A\",\"#19d3f3\",\"#FF6692\",\"#B6E880\",\"#FF97FF\",\"#FECB52\"],\"font\":{\"color\":\"#2a3f5f\"},\"hovermode\":\"closest\",\"hoverlabel\":{\"align\":\"left\"},\"paper_bgcolor\":\"white\",\"plot_bgcolor\":\"#E5ECF6\",\"polar\":{\"bgcolor\":\"#E5ECF6\",\"angularaxis\":{\"gridcolor\":\"white\",\"linecolor\":\"white\",\"ticks\":\"\"},\"radialaxis\":{\"gridcolor\":\"white\",\"linecolor\":\"white\",\"ticks\":\"\"}},\"ternary\":{\"bgcolor\":\"#E5ECF6\",\"aaxis\":{\"gridcolor\":\"white\",\"linecolor\":\"white\",\"ticks\":\"\"},\"baxis\":{\"gridcolor\":\"white\",\"linecolor\":\"white\",\"ticks\":\"\"},\"caxis\":{\"gridcolor\":\"white\",\"linecolor\":\"white\",\"ticks\":\"\"}},\"coloraxis\":{\"colorbar\":{\"outlinewidth\":0,\"ticks\":\"\"}},\"colorscale\":{\"sequential\":[[0.0,\"#0d0887\"],[0.1111111111111111,\"#46039f\"],[0.2222222222222222,\"#7201a8\"],[0.3333333333333333,\"#9c179e\"],[0.4444444444444444,\"#bd3786\"],[0.5555555555555556,\"#d8576b\"],[0.6666666666666666,\"#ed7953\"],[0.7777777777777778,\"#fb9f3a\"],[0.8888888888888888,\"#fdca26\"],[1.0,\"#f0f921\"]],\"sequentialminus\":[[0.0,\"#0d0887\"],[0.1111111111111111,\"#46039f\"],[0.2222222222222222,\"#7201a8\"],[0.3333333333333333,\"#9c179e\"],[0.4444444444444444,\"#bd3786\"],[0.5555555555555556,\"#d8576b\"],[0.6666666666666666,\"#ed7953\"],[0.7777777777777778,\"#fb9f3a\"],[0.8888888888888888,\"#fdca26\"],[1.0,\"#f0f921\"]],\"diverging\":[[0,\"#8e0152\"],[0.1,\"#c51b7d\"],[0.2,\"#de77ae\"],[0.3,\"#f1b6da\"],[0.4,\"#fde0ef\"],[0.5,\"#f7f7f7\"],[0.6,\"#e6f5d0\"],[0.7,\"#b8e186\"],[0.8,\"#7fbc41\"],[0.9,\"#4d9221\"],[1,\"#276419\"]]},\"xaxis\":{\"gridcolor\":\"white\",\"linecolor\":\"white\",\"ticks\":\"\",\"title\":{\"standoff\":15},\"zerolinecolor\":\"white\",\"automargin\":true,\"zerolinewidth\":2},\"yaxis\":{\"gridcolor\":\"white\",\"linecolor\":\"white\",\"ticks\":\"\",\"title\":{\"standoff\":15},\"zerolinecolor\":\"white\",\"automargin\":true,\"zerolinewidth\":2},\"scene\":{\"xaxis\":{\"backgroundcolor\":\"#E5ECF6\",\"gridcolor\":\"white\",\"linecolor\":\"white\",\"showbackground\":true,\"ticks\":\"\",\"zerolinecolor\":\"white\",\"gridwidth\":2},\"yaxis\":{\"backgroundcolor\":\"#E5ECF6\",\"gridcolor\":\"white\",\"linecolor\":\"white\",\"showbackground\":true,\"ticks\":\"\",\"zerolinecolor\":\"white\",\"gridwidth\":2},\"zaxis\":{\"backgroundcolor\":\"#E5ECF6\",\"gridcolor\":\"white\",\"linecolor\":\"white\",\"showbackground\":true,\"ticks\":\"\",\"zerolinecolor\":\"white\",\"gridwidth\":2}},\"shapedefaults\":{\"line\":{\"color\":\"#2a3f5f\"}},\"annotationdefaults\":{\"arrowcolor\":\"#2a3f5f\",\"arrowhead\":0,\"arrowwidth\":1},\"geo\":{\"bgcolor\":\"white\",\"landcolor\":\"#E5ECF6\",\"subunitcolor\":\"white\",\"showland\":true,\"showlakes\":true,\"lakecolor\":\"white\"},\"title\":{\"x\":0.05},\"mapbox\":{\"style\":\"light\"}}},\"title\":{\"text\":\"Levenshtein Distance Matrix\"},\"xaxis\":{\"title\":{\"text\":\"Sequence 2\"}},\"yaxis\":{\"title\":{\"text\":\"Sequence 1\"}}},                        {\"responsive\": true}                    ).then(function(){\n",
       "                            \n",
       "var gd = document.getElementById('2717680f-072a-4a65-85eb-f6c8b844a85c');\n",
       "var x = new MutationObserver(function (mutations, observer) {{\n",
       "        var display = window.getComputedStyle(gd).display;\n",
       "        if (!display || display === 'none') {{\n",
       "            console.log([gd, 'removed!']);\n",
       "            Plotly.purge(gd);\n",
       "            observer.disconnect();\n",
       "        }}\n",
       "}});\n",
       "\n",
       "// Listen for the removal of the full notebook cells\n",
       "var notebookContainer = gd.closest('#notebook-container');\n",
       "if (notebookContainer) {{\n",
       "    x.observe(notebookContainer, {childList: true});\n",
       "}}\n",
       "\n",
       "// Listen for the clearing of the current output cell\n",
       "var outputEl = gd.closest('.output');\n",
       "if (outputEl) {{\n",
       "    x.observe(outputEl, {childList: true});\n",
       "}}\n",
       "\n",
       "                        })                };                });            </script>        </div>"
      ]
     },
     "metadata": {},
     "output_type": "display_data"
    }
   ],
   "source": [
    "import plotly.graph_objects as go\n",
    "\n",
    "def plot_levenshtein_matrix(matrix):\n",
    "    fig = go.Figure(data=go.Heatmap(z=matrix, colorscale='Viridis'))\n",
    "    fig.update_layout(\n",
    "        title='Levenshtein Distance Matrix',\n",
    "        xaxis_title='Sequence 2',\n",
    "        yaxis_title='Sequence 1'\n",
    "    )\n",
    "    fig.show()\n",
    "\n",
    "# Example usage\n",
    "seq1 = '3 creekhouse'\n",
    "seq2 = 'scales/kuhaylah'\n",
    "matrix = np.zeros((len(seq1) + 1, len(seq2) + 1))\n",
    "\n",
    "distance = levenshtein(seq1, seq2)\n",
    "print(\"Levenshtein Distance:\", distance)\n",
    "\n",
    "plot_levenshtein_matrix(matrix)\n"
   ]
  },
  {
   "cell_type": "markdown",
   "id": "92e13834",
   "metadata": {
    "papermill": {
     "duration": 0.008158,
     "end_time": "2023-05-28T10:23:26.607567",
     "exception": false,
     "start_time": "2023-05-28T10:23:26.599409",
     "status": "completed"
    },
    "tags": []
   },
   "source": [
    "# Inference Model"
   ]
  },
  {
   "cell_type": "code",
   "execution_count": 18,
   "id": "1afee506",
   "metadata": {
    "execution": {
     "iopub.execute_input": "2023-05-28T10:23:26.626123Z",
     "iopub.status.busy": "2023-05-28T10:23:26.625806Z",
     "iopub.status.idle": "2023-05-28T10:23:27.198936Z",
     "shell.execute_reply": "2023-05-28T10:23:27.197322Z"
    },
    "papermill": {
     "duration": 0.585091,
     "end_time": "2023-05-28T10:23:27.201235",
     "exception": false,
     "start_time": "2023-05-28T10:23:26.616144",
     "status": "completed"
    },
    "tags": []
   },
   "outputs": [
    {
     "name": "stdout",
     "output_type": "stream",
     "text": [
      "Model: \"model\"\n",
      "__________________________________________________________________________________________________\n",
      " Layer (type)                   Output Shape         Param #     Connected to                     \n",
      "==================================================================================================\n",
      " inputs (InputLayer)            [(None, 6)]          0           []                               \n",
      "                                                                                                  \n",
      " tf.math.is_nan (TFOpLambda)    (None, 6)            0           ['inputs[0][0]']                 \n",
      "                                                                                                  \n",
      " tf.zeros_like (TFOpLambda)     (None, 6)            0           ['inputs[0][0]']                 \n",
      "                                                                                                  \n",
      " tf.where (TFOpLambda)          (None, 6)            0           ['tf.math.is_nan[0][0]',         \n",
      "                                                                  'tf.zeros_like[0][0]',          \n",
      "                                                                  'inputs[0][0]']                 \n",
      "                                                                                                  \n",
      " dense (Dense)                  (None, 59)           413         ['tf.where[0][0]']               \n",
      "                                                                                                  \n",
      " outputs (Activation)           (None, 59)           0           ['dense[0][0]']                  \n",
      "                                                                                                  \n",
      "==================================================================================================\n",
      "Total params: 413\n",
      "Trainable params: 413\n",
      "Non-trainable params: 0\n",
      "__________________________________________________________________________________________________\n"
     ]
    }
   ],
   "source": [
    "basedir = \"/kaggle/working/\"\n",
    "NUM_CHARACTERS = 59\n",
    "\n",
    "SEL_FEATURES = ['x_right_hand_0', 'y_right_hand_0', 'z_right_hand_0',\n",
    "                # ... rest of the features ...\n",
    "                'x_left_hand_20', 'y_left_hand_20', 'z_left_hand_20'\n",
    "                ]\n",
    "NUM_FEATURES = len(SEL_FEATURES)\n",
    "\n",
    "d = {\"selected_columns\": SEL_FEATURES}\n",
    "\n",
    "with open(f\"{basedir}/inference_args.json\", \"w\") as f:\n",
    "    json.dump(d, f)\n",
    "\n",
    "\n",
    "def get_dummy_model():\n",
    "    inputs = tf.keras.Input(shape=(NUM_FEATURES), dtype=tf.float32, name=\"inputs\")\n",
    "    x = tf.where(tf.math.is_nan(inputs), tf.zeros_like(inputs), inputs)\n",
    "    x = tf.keras.layers.Dense(NUM_CHARACTERS)(x)\n",
    "    out = tf.keras.layers.Activation(\"linear\", name=\"outputs\")(x)\n",
    "    inference_model = tf.keras.Model(inputs=inputs, outputs=out)\n",
    "    inference_model.compile(loss=\"sparse_categorical_crossentropy\",\n",
    "                            metrics=\"accuracy\")\n",
    "    return inference_model\n",
    "\n",
    "\n",
    "dummy_model_test = get_dummy_model()\n",
    "dummy_model_test.summary()"
   ]
  },
  {
   "cell_type": "code",
   "execution_count": 19,
   "id": "841b3c66",
   "metadata": {
    "execution": {
     "iopub.execute_input": "2023-05-28T10:23:27.223297Z",
     "iopub.status.busy": "2023-05-28T10:23:27.222943Z",
     "iopub.status.idle": "2023-05-28T10:23:28.565018Z",
     "shell.execute_reply": "2023-05-28T10:23:28.563347Z"
    },
    "papermill": {
     "duration": 1.356298,
     "end_time": "2023-05-28T10:23:28.568040",
     "exception": false,
     "start_time": "2023-05-28T10:23:27.211742",
     "status": "completed"
    },
    "tags": []
   },
   "outputs": [
    {
     "name": "stdout",
     "output_type": "stream",
     "text": [
      "  adding: kaggle/working/model.tflite (deflated 28%)\r\n",
      "  adding: kaggle/working/inference_args.json (deflated 49%)\r\n"
     ]
    }
   ],
   "source": [
    "converter = tf.lite.TFLiteConverter.from_keras_model(dummy_model_test)\n",
    "\n",
    "tflite_model = converter.convert()\n",
    "model_path = 'model.tflite'\n",
    "\n",
    "with open(model_path, 'wb') as f:\n",
    "    f.write(tflite_model)\n",
    "\n",
    "!zip submission.zip  '/kaggle/working/model.tflite' '/kaggle/working/inference_args.json'"
   ]
  },
  {
   "cell_type": "code",
   "execution_count": 20,
   "id": "813b0294",
   "metadata": {
    "execution": {
     "iopub.execute_input": "2023-05-28T10:23:28.589989Z",
     "iopub.status.busy": "2023-05-28T10:23:28.589648Z",
     "iopub.status.idle": "2023-05-28T10:23:28.600002Z",
     "shell.execute_reply": "2023-05-28T10:23:28.598080Z"
    },
    "papermill": {
     "duration": 0.024273,
     "end_time": "2023-05-28T10:23:28.602483",
     "exception": false,
     "start_time": "2023-05-28T10:23:28.578210",
     "status": "completed"
    },
    "tags": []
   },
   "outputs": [],
   "source": [
    "CHECKING = False\n",
    "\n",
    "if CHECKING:\n",
    "    !pip install tflite-runtime==2.9.1\n",
    "    import tflite_runtime.interpreter as tflite\n",
    "\n",
    "    def load_relevant_data_subset(pq_path):\n",
    "        return pd.read_parquet(pq_path, columns=SEL_FEATURES) #selected_columns)\n",
    "    \n",
    "    data_path = \"/kaggle/input/asl-fingerspelling/train_landmarks/1021040628.parquet\"\n",
    "    frames = load_relevant_data_subset(data_path).values\n",
    "    \n",
    "    interpreter = tflite.Interpreter(model_path)\n",
    "    found_signatures = list(interpreter.get_signature_list().keys())\n",
    "    prediction_fn = interpreter.get_signature_runner(\"serving_default\")\n",
    "    \n",
    "    with open (\"/kaggle/input/asl-fingerspelling/character_to_prediction_index.json\", \"r\") as f:\n",
    "        character_map = json.load(f)\n",
    "    rev_character_map = {j:i for i,j in character_map.items()}"
   ]
  },
  {
   "cell_type": "code",
   "execution_count": 21,
   "id": "c1d173d0",
   "metadata": {
    "execution": {
     "iopub.execute_input": "2023-05-28T10:23:28.624621Z",
     "iopub.status.busy": "2023-05-28T10:23:28.624258Z",
     "iopub.status.idle": "2023-05-28T10:23:28.630657Z",
     "shell.execute_reply": "2023-05-28T10:23:28.628763Z"
    },
    "papermill": {
     "duration": 0.019379,
     "end_time": "2023-05-28T10:23:28.632603",
     "exception": false,
     "start_time": "2023-05-28T10:23:28.613224",
     "status": "completed"
    },
    "tags": []
   },
   "outputs": [],
   "source": [
    "if CHECKING:\n",
    "    output = prediction_fn(inputs=frames)\n",
    "    prediction_str = \"\".join([rev_character_map.gets(s,\"\")for s in np.argmax(output['outputs'], axis=1)])\n",
    "    print(\"\\n\\n\",prediction_str[:100])"
   ]
  },
  {
   "cell_type": "markdown",
   "id": "ff780e0e",
   "metadata": {
    "papermill": {
     "duration": 0.010015,
     "end_time": "2023-05-28T10:23:28.652432",
     "exception": false,
     "start_time": "2023-05-28T10:23:28.642417",
     "status": "completed"
    },
    "tags": []
   },
   "source": [
    "![image](https://encrypted-tbn0.gstatic.com/images?q=tbn:ANd9GcTDAD-Z6e0Lad_MWmVJw-crpHqq-SFh9aBOdA&usqp=CAU)"
   ]
  },
  {
   "cell_type": "markdown",
   "id": "f330ff89",
   "metadata": {
    "papermill": {
     "duration": 0.008957,
     "end_time": "2023-05-28T10:23:28.670959",
     "exception": false,
     "start_time": "2023-05-28T10:23:28.662002",
     "status": "completed"
    },
    "tags": []
   },
   "source": [
    "<div style=\"color:white;\n",
    "           display:fill;\n",
    "           border-radius:5px;\n",
    "           background-color:#5642C5;\n",
    "           font-size:110%;\n",
    "           font-family:Verdana;\n",
    "           letter-spacing:0.5px\">\n",
    "\n",
    "<p style=\"padding: 10px;\n",
    "              color:white;\">\n",
    "Your upvote is a great way to show your support and help others discover this valuable resource."
   ]
  },
  {
   "cell_type": "markdown",
   "id": "ebc8a277",
   "metadata": {
    "papermill": {
     "duration": 0.009542,
     "end_time": "2023-05-28T10:23:28.691016",
     "exception": false,
     "start_time": "2023-05-28T10:23:28.681474",
     "status": "completed"
    },
    "tags": []
   },
   "source": [
    "<div class=\"alert alert-block alert-info\"> 📌 Note: If you forks my notebook, please don't forget to upvote it. </div>\n"
   ]
  }
 ],
 "metadata": {
  "kernelspec": {
   "display_name": "Python 3",
   "language": "python",
   "name": "python3"
  },
  "language_info": {
   "codemirror_mode": {
    "name": "ipython",
    "version": 3
   },
   "file_extension": ".py",
   "mimetype": "text/x-python",
   "name": "python",
   "nbconvert_exporter": "python",
   "pygments_lexer": "ipython3",
   "version": "3.10.10"
  },
  "papermill": {
   "default_parameters": {},
   "duration": 76.636446,
   "end_time": "2023-05-28T10:23:31.959627",
   "environment_variables": {},
   "exception": null,
   "input_path": "__notebook__.ipynb",
   "output_path": "__notebook__.ipynb",
   "parameters": {},
   "start_time": "2023-05-28T10:22:15.323181",
   "version": "2.4.0"
  }
 },
 "nbformat": 4,
 "nbformat_minor": 5
}
