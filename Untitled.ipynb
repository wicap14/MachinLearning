{
 "cells": [
  {
   "cell_type": "markdown",
   "id": "f36987c6",
   "metadata": {},
   "source": [
    "#### <a id=\"top\"></a>\n",
    "# <div style=\"box-shadow: rgb(60, 121, 245) 0px 0px 0px 3px inset, rgb(255, 255, 255) 10px -10px 0px -3px, rgb(31, 193, 27) 10px -10px, rgb(255, 255, 255) 20px -20px 0px -3px, rgb(255, 217, 19) 20px -20px, rgb(255, 255, 255) 30px -30px 0px -3px, rgb(255, 156, 85) 30px -30px, rgb(255, 255, 255) 40px -40px 0px -3px, rgb(255, 85, 85) 40px -40px; padding:20px; margin-right: 40px; font-size:30px; font-family: consolas; text-align:center; display:fill; border-radius:15px; color:rgb(60, 121, 245);\"><b>Table of contents</b></div>\n",
    "\n",
    "<div style=\"background-color: rgba(60, 121, 245, 0.03); padding:30px; font-size:15px; font-family: consolas;\">\n",
    "\n",
    "* [0. Import all dependencies](#0)\n",
    "* [1. Overview availiable directories](#1)\n",
    "    * [1.1 Overview train/ directory](#1.1)\n",
    "    * [1.2 Overview test/ directory](#1.2)\n",
    "    * [1.3 Overview unlabeled/ directory](#1.3)\n",
    "* [2. Overview availiable csv files](#2)\n",
    "    * [2.1 Overview tdcsfog_metadata.csv file](#2.1)\n",
    "    * [2.2 Overview defog_metadata.csv file](#2.2)\n",
    "    * [2.3 Overview daily_metadata.csv file](#2.3)\n",
    "    * [2.4 Overview subjects.csv file](#2.4)\n",
    "    * [2.5 Overview events.csv file](#2.5)\n",
    "    * [2.6 Overview tasks.csv file](#2.6)"
   ]
  },
  {
   "cell_type": "code",
   "execution_count": null,
   "id": "4d6c5792",
   "metadata": {},
   "outputs": [],
   "source": []
  }
 ],
 "metadata": {
  "kernelspec": {
   "display_name": "Python 3 (ipykernel)",
   "language": "python",
   "name": "python3"
  },
  "language_info": {
   "codemirror_mode": {
    "name": "ipython",
    "version": 3
   },
   "file_extension": ".py",
   "mimetype": "text/x-python",
   "name": "python",
   "nbconvert_exporter": "python",
   "pygments_lexer": "ipython3",
   "version": "3.8.8"
  }
 },
 "nbformat": 4,
 "nbformat_minor": 5
}
